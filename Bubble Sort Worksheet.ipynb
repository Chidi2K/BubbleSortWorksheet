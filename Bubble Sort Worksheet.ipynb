{
 "cells": [
  {
   "cell_type": "markdown",
   "metadata": {},
   "source": [
    "# Bubble Sort\n",
    "\n",
    "## 1.\tSort the list below in ascending order: \n",
    "\n",
    "| Original  |  Pass1 | Pass2  | Pass3  | Pass4  | Pass5 |\n",
    "|:---------:|:------:|:------:|:------:|:------:|:------:|\n",
    "|8|||||||\n",
    "|2|||||||\n",
    "|10|||||||\n",
    "|5|||||||\n",
    "|7|||||||\n",
    "|4|||||||\n"
   ]
  },
  {
   "cell_type": "markdown",
   "metadata": {},
   "source": [
    "## 2. Time to program Bubblesort! \n",
    "Fill in the missing parts of the code, they will help you create a bubblesort.py file.\n",
    "\n",
    "### Aims:\n",
    "-\tCreate a random list with a certain amount of elements\n",
    "-\tSort the list using Bubblesort\n",
    "-\tCount the number of swaps needed to sort the list\n",
    "-\tCalculate the time it takes to sort the list\n"
   ]
  },
  {
   "cell_type": "markdown",
   "metadata": {},
   "source": [
    "### Psuedocode:\n",
    "\n",
    "```\n",
    "bubblesort (A, N) { \n",
    " repeat the following steps until the list is sorted \n",
    "  put 1 into i \n",
    "  repeat while i < N \n",
    "     if A[i] > A[i+1] \n",
    "          then swap A[i], A[i+1] \n",
    "     end if \n",
    "     add 1 to i \n",
    "  end repeat \n",
    "end repeat \n",
    "}\n",
    "end bubblesort\n",
    "```\n",
    "\n",
    "### Flowchart\n",
    "\n",
    "![alt text](https://www.w3resource.com/w3r_images/python-search-and-sorting-exercise-4.png \"Bubble Sort Flowchart\")\n",
    "\n",
    "\n",
    "### Complete the code below to program the bubble sort algorithm in Python:"
   ]
  },
  {
   "cell_type": "code",
   "execution_count": 1,
   "metadata": {},
   "outputs": [],
   "source": [
    "#Step 1: define a function called 'bubbleSort' and give it a parameter called 'alist'\n",
    "\n",
    "    #Step 2: create a for loop that goes through the entire list using range as shown in the flowchart above\n",
    "    \n",
    "        #Step 3: create a nested for loop goes through the swap process as shown in the flowchart above\n",
    "        \n",
    "            #Step 4: create an if statement that checks in alist[i] is greater than alist[i+1]\n",
    "            \n",
    "                #Step 5: create a 'temp' variable to store the element from alist[i]\n",
    "                \n",
    "                #Step 6: swap the element alist[i] with the element alist[i+1]\n",
    "                \n",
    "                #Step 7: set the element alist[i+1] to store the value held by the 'temp' variable\n",
    "                \n",
    "#Step 8: create a list called 'alist' with some random integers in it\n",
    "\n",
    "#Step 9: Call the 'bubbleSort' function and pass it the parameter 'alist'\n",
    "\n",
    "#Step 10: print 'alist' \n"
   ]
  }
 ],
 "metadata": {
  "kernelspec": {
   "display_name": "Python 3",
   "language": "python",
   "name": "python3"
  },
  "language_info": {
   "codemirror_mode": {
    "name": "ipython",
    "version": 3
   },
   "file_extension": ".py",
   "mimetype": "text/x-python",
   "name": "python",
   "nbconvert_exporter": "python",
   "pygments_lexer": "ipython3",
   "version": "3.5.2"
  }
 },
 "nbformat": 4,
 "nbformat_minor": 2
}
